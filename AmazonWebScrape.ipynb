{
 "cells": [
  {
   "cell_type": "markdown",
   "id": "91f2eda9-6294-4933-956a-450396df209c",
   "metadata": {},
   "source": [
    "# Amazon Web Scraping"
   ]
  },
  {
   "cell_type": "code",
   "execution_count": 1,
   "id": "f7693eb1-88e1-483d-b83d-a1d5773fcbe1",
   "metadata": {},
   "outputs": [],
   "source": [
    "#importing libraries\n",
    "\n",
    "from bs4 import BeautifulSoup\n",
    "import requests\n",
    "import smtplib\n",
    "import time\n",
    "import datetime\n"
   ]
  },
  {
   "cell_type": "code",
   "execution_count": 32,
   "id": "77a41878-232b-489f-99d6-c88a628b3602",
   "metadata": {},
   "outputs": [
    {
     "name": "stdout",
     "output_type": "stream",
     "text": [
      "\n",
      "             TIGER JBV-A10U 5.5-Cup (Uncooked) Micom Rice Cooker with Food Steamer Basket, White\n",
      "            \n",
      "\n",
      "                 $107.99\n",
      "                \n"
     ]
    }
   ],
   "source": [
    "#connect to website\n",
    "\n",
    "url = 'https://www.amazon.com/Tiger-Corporation-JBV-A10U-W-5-5-Cup-Steamer/dp/B00KDNKTJG/ref=pd_ci_mcx_mh_mcx_views_0?pd_rd_w=CdGFb&content-id=amzn1.sym.8b590b55-908d-4829-9f90-4c8752768e8b%3Aamzn1.symc.40e6a10e-cbc4-4fa5-81e3-4435ff64d03b&pf_rd_p=8b590b55-908d-4829-9f90-4c8752768e8b&pf_rd_r=8JQVB6X8HECNHMZXQ55Z&pd_rd_wg=pfTMi&pd_rd_r=6d61bb51-4b0d-445c-8166-2dfe607869f6&pd_rd_i=B00KDNKTJG&th=1'\n",
    "\n",
    "headers = {\"User-Agent\": \"Mozilla/5.0 (Windows NT 10.0; Win64; x64; rv:124.0) Gecko/20100101 Firefox/124.0\", \"Accept-Encoding\":\"gzip, deflate\", \"Accept\":\"text/html,application/xhtml+xml,application/xml;q=0.9,*/*;q=0.8\", \"DNT\":\"1\",\"Connection\":\"close\", \"Upgrade-Insecure-Requests\":\"1\"}\n",
    "\n",
    "page = requests.get(url,headers=headers)\n",
    "\n",
    "soup1 = BeautifulSoup(page.content, \"html.parser\")\n",
    "\n",
    "soup2 = BeautifulSoup(soup1.prettify(),\"html.parser\")\n",
    "\n",
    "title = soup2.find(id='productTitle').get_text()\n",
    "price = soup2.find(class_='aok-offscreen').get_text()\n",
    "\n",
    "print(title)\n",
    "print(price)\n"
   ]
  },
  {
   "cell_type": "code",
   "execution_count": 33,
   "id": "2c79e5e9-7b41-4f35-a3d5-07e5747caace",
   "metadata": {},
   "outputs": [
    {
     "name": "stdout",
     "output_type": "stream",
     "text": [
      "TIGER JBV-A10U 5.5-Cup (Uncooked) Micom Rice Cooker with Food Steamer Basket, White\n",
      "107.99\n"
     ]
    }
   ],
   "source": [
    "price = price.strip()[1:]\n",
    "title = title.strip()\n",
    "\n",
    "print(title)\n",
    "print(price)\n",
    "type(price)"
   ]
  },
  {
   "cell_type": "code",
   "execution_count": 37,
   "id": "c958978f-a37f-4f9b-9994-9c2f37e34739",
   "metadata": {},
   "outputs": [
    {
     "name": "stdout",
     "output_type": "stream",
     "text": [
      "2024-04-05\n"
     ]
    }
   ],
   "source": [
    "import datetime\n",
    "\n",
    "today = datetime.date.today()\n",
    "\n",
    "print(today)"
   ]
  },
  {
   "cell_type": "code",
   "execution_count": 52,
   "id": "1759a43f-1a9f-4085-b56d-76741caa23c3",
   "metadata": {},
   "outputs": [],
   "source": [
    "import csv\n",
    "\n",
    "header = ['Title','Price','Date']\n",
    "data = [title, price, today]\n",
    "\n",
    "with open('AmazonWebScrapeData.csv', 'w', newline='', encoding='UTF8') as f:\n",
    "    writer = csv.writer(f)\n",
    "    writer.writerow(header)\n",
    "    writer.writerow(data)\n"
   ]
  },
  {
   "cell_type": "code",
   "execution_count": 57,
   "id": "84a01637-dc6a-4215-8715-76a7f80441f2",
   "metadata": {},
   "outputs": [
    {
     "name": "stdout",
     "output_type": "stream",
     "text": [
      "                                               Title   Price        Date\n",
      "0  TIGER JBV-A10U 5.5-Cup (Uncooked) Micom Rice C...  107.99  2024-04-05\n",
      "1  TIGER JBV-A10U 5.5-Cup (Uncooked) Micom Rice C...  107.99  2024-04-05\n",
      "2  TIGER JBV-A10U 5.5-Cup (Uncooked) Micom Rice C...  107.99  2024-04-05\n",
      "3  TIGER JBV-A10U 5.5-Cup (Uncooked) Micom Rice C...  107.99  2024-04-05\n"
     ]
    }
   ],
   "source": [
    "import pandas as pd\n",
    "\n",
    "df = pd.read_csv(r'C:\\Users\\brenn\\AmazonWebScrapeData.csv')\n",
    "\n",
    "print(df)"
   ]
  },
  {
   "cell_type": "code",
   "execution_count": 56,
   "id": "2e0da325-81aa-45d0-b871-d34fad137321",
   "metadata": {},
   "outputs": [],
   "source": [
    "#appending data to csv\n",
    "with open('AmazonWebScrapeData.csv', 'a+', newline='', encoding='UTF8') as f:\n",
    "    writer = csv.writer(f)\n",
    "    writer.writerow(data)"
   ]
  },
  {
   "cell_type": "code",
   "execution_count": 58,
   "id": "809edffe-c40e-4d08-ac7c-128561d57fe5",
   "metadata": {},
   "outputs": [],
   "source": [
    "def check_price():\n",
    "    url = 'https://www.amazon.com/Tiger-Corporation-JBV-A10U-W-5-5-Cup-Steamer/dp/B00KDNKTJG/ref=pd_ci_mcx_mh_mcx_views_0?pd_rd_w=CdGFb&content-id=amzn1.sym.8b590b55-908d-4829-9f90-4c8752768e8b%3Aamzn1.symc.40e6a10e-cbc4-4fa5-81e3-4435ff64d03b&pf_rd_p=8b590b55-908d-4829-9f90-4c8752768e8b&pf_rd_r=8JQVB6X8HECNHMZXQ55Z&pd_rd_wg=pfTMi&pd_rd_r=6d61bb51-4b0d-445c-8166-2dfe607869f6&pd_rd_i=B00KDNKTJG&th=1'\n",
    "\n",
    "    headers = {\"User-Agent\": \"Mozilla/5.0 (Windows NT 10.0; Win64; x64; rv:124.0) Gecko/20100101 Firefox/124.0\", \"Accept-Encoding\":\"gzip, deflate\", \"Accept\":\"text/html,application/xhtml+xml,application/xml;q=0.9,*/*;q=0.8\", \"DNT\":\"1\",\"Connection\":\"close\", \"Upgrade-Insecure-Requests\":\"1\"}\n",
    "\n",
    "    page = requests.get(url,headers=headers)\n",
    "\n",
    "    soup1 = BeautifulSoup(page.content, \"html.parser\")\n",
    "\n",
    "    soup2 = BeautifulSoup(soup1.prettify(),\"html.parser\")\n",
    "\n",
    "    title = soup2.find(id='productTitle').get_text()\n",
    "    \n",
    "    price = soup2.find(class_='aok-offscreen').get_text()\n",
    "    \n",
    "    price = price.strip()[1:]\n",
    "    title = title.strip()\n",
    "    \n",
    "    import datetime\n",
    "    \n",
    "    today = datetime.date.today()\n",
    "    \n",
    "    import csv\n",
    "\n",
    "    header = ['Title','Price','Date']\n",
    "    data = [title, price, today]\n",
    "    \n",
    "    with open('AmazonWebScrapeData.csv', 'a+', newline='', encoding='UTF8') as f:\n",
    "        writer = csv.writer(f)\n",
    "        writer.writerow(data)"
   ]
  },
  {
   "cell_type": "code",
   "execution_count": null,
   "id": "28c4dd64-1af6-47a2-9f6a-a7f5ee721832",
   "metadata": {},
   "outputs": [],
   "source": [
    "# runs check_price after a set amount of time and inputs into csv\n",
    "\n",
    "#while(True):\n",
    "    #check_price()\n",
    "    #time.sleep(86400)"
   ]
  },
  {
   "cell_type": "code",
   "execution_count": 62,
   "id": "f56d54d1-682e-4163-8a21-48195739a955",
   "metadata": {},
   "outputs": [
    {
     "name": "stdout",
     "output_type": "stream",
     "text": [
      "                                               Title   Price        Date\n",
      "0  TIGER JBV-A10U 5.5-Cup (Uncooked) Micom Rice C...  107.99  2024-04-05\n",
      "1  TIGER JBV-A10U 5.5-Cup (Uncooked) Micom Rice C...  107.99  2024-04-05\n",
      "2  TIGER JBV-A10U 5.5-Cup (Uncooked) Micom Rice C...  107.99  2024-04-05\n",
      "3  TIGER JBV-A10U 5.5-Cup (Uncooked) Micom Rice C...  107.99  2024-04-05\n",
      "4  TIGER JBV-A10U 5.5-Cup (Uncooked) Micom Rice C...  107.99  2024-04-05\n",
      "5  TIGER JBV-A10U 5.5-Cup (Uncooked) Micom Rice C...  107.99  2024-04-05\n",
      "6  TIGER JBV-A10U 5.5-Cup (Uncooked) Micom Rice C...  107.99  2024-04-05\n"
     ]
    }
   ],
   "source": [
    "import pandas as pd\n",
    "\n",
    "df = pd.read_csv(r'C:\\Users\\brenn\\AmazonWebScrapeData.csv')\n",
    "\n",
    "print(df)"
   ]
  }
 ],
 "metadata": {
  "kernelspec": {
   "display_name": "Python 3 (ipykernel)",
   "language": "python",
   "name": "python3"
  },
  "language_info": {
   "codemirror_mode": {
    "name": "ipython",
    "version": 3
   },
   "file_extension": ".py",
   "mimetype": "text/x-python",
   "name": "python",
   "nbconvert_exporter": "python",
   "pygments_lexer": "ipython3",
   "version": "3.11.7"
  }
 },
 "nbformat": 4,
 "nbformat_minor": 5
}
